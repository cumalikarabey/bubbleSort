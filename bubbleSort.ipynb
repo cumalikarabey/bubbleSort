{
 "cells": [
  {
   "cell_type": "markdown",
   "id": "27b66196",
   "metadata": {},
   "source": [
    "# BubbleSort Algorithm"
   ]
  },
  {
   "cell_type": "code",
   "execution_count": 2,
   "id": "11afc89c",
   "metadata": {},
   "outputs": [],
   "source": [
    "import random as rnd\n",
    "import numpy as np"
   ]
  },
  {
   "cell_type": "code",
   "execution_count": 45,
   "id": "7d16415c",
   "metadata": {},
   "outputs": [],
   "source": [
    "def create_list(x):\n",
    "    list_1 = []\n",
    "    for i in range(x):\n",
    "        e = rnd.randint(-30,30)\n",
    "        list_1.append(e)\n",
    "    return list_1"
   ]
  },
  {
   "cell_type": "code",
   "execution_count": 49,
   "id": "0e8eb094",
   "metadata": {},
   "outputs": [
    {
     "data": {
      "text/plain": [
       "[1, -18, -20, 21, 6, -23, 22, 16, 11, 20]"
      ]
     },
     "execution_count": 49,
     "metadata": {},
     "output_type": "execute_result"
    }
   ],
   "source": [
    "list_1 = create_list(10)\n",
    "list_1"
   ]
  },
  {
   "cell_type": "code",
   "execution_count": 50,
   "id": "058b4634",
   "metadata": {},
   "outputs": [],
   "source": [
    "for i in range(len(list_1)):\n",
    "    if i+1 < len(list_1): #if \"i\" is bigger than \"len(list)\" loop is over\n",
    "        for j in range(len(list_1) - i - 1 ): #compare item within other items\n",
    "            if list_1[j+1] < list_1[j]:\n",
    "                second = list_1[j]\n",
    "                list_1[j] = list_1[j+1]\n",
    "                list_1[j+1] = second\n",
    "                \n",
    "                "
   ]
  },
  {
   "cell_type": "code",
   "execution_count": 51,
   "id": "685b215e",
   "metadata": {},
   "outputs": [
    {
     "data": {
      "text/plain": [
       "[-23, -20, -18, 1, 6, 11, 16, 20, 21, 22]"
      ]
     },
     "execution_count": 51,
     "metadata": {},
     "output_type": "execute_result"
    }
   ],
   "source": [
    "list_1"
   ]
  },
  {
   "cell_type": "code",
   "execution_count": null,
   "id": "adfcbb1f",
   "metadata": {},
   "outputs": [],
   "source": []
  }
 ],
 "metadata": {
  "kernelspec": {
   "display_name": "Python 3 (ipykernel)",
   "language": "python",
   "name": "python3"
  },
  "language_info": {
   "codemirror_mode": {
    "name": "ipython",
    "version": 3
   },
   "file_extension": ".py",
   "mimetype": "text/x-python",
   "name": "python",
   "nbconvert_exporter": "python",
   "pygments_lexer": "ipython3",
   "version": "3.9.12"
  }
 },
 "nbformat": 4,
 "nbformat_minor": 5
}
